{
  "nbformat": 4,
  "nbformat_minor": 0,
  "metadata": {
    "colab": {
      "name": "MNIST Handwritten Digit Classification.ipynb",
      "private_outputs": true,
      "provenance": []
    },
    "kernelspec": {
      "name": "python3",
      "display_name": "Python 3"
    },
    "language_info": {
      "name": "python"
    }
  },
  "cells": [
    {
      "cell_type": "markdown",
      "metadata": {
        "id": "QPMN869ovW2V"
      },
      "source": [
        "# **Develop A Neural Network That Can Read Handwriting**"
      ]
    },
    {
      "cell_type": "markdown",
      "metadata": {
        "id": "W0qsfMUov1WI"
      },
      "source": [
        "*DataSet_Link*: https://en.wikipedia.org/wiki/MNIST_database \n"
      ]
    },
    {
      "cell_type": "code",
      "metadata": {
        "id": "2JjhBvoawCfl"
      },
      "source": [
        "#import lib..\n",
        "import numpy as np\n",
        "import pandas as pd\n",
        "import seaborn as sns\n",
        "sns.set_style('darkgrid')\n",
        "import matplotlib.pyplot as plt\n",
        "import matplotlib_inline"
      ],
      "execution_count": null,
      "outputs": []
    },
    {
      "cell_type": "code",
      "metadata": {
        "id": "B4lhasXtwCbs"
      },
      "source": [
        "#importing warnings for get rid to long error \n",
        "import warnings\n",
        "warnings.filterwarnings(\"ignore\")"
      ],
      "execution_count": null,
      "outputs": []
    },
    {
      "cell_type": "code",
      "metadata": {
        "id": "VgHZsYTswCZw"
      },
      "source": [
        "#importing keras from tensorflow (working in backend)\n",
        "import tensorflow as tf\n",
        "from tensorflow import keras \n",
        "from keras import Sequential\n",
        "from keras import Model\n",
        "from keras.layers import Dense\n",
        "from keras import layers\n"
      ],
      "execution_count": null,
      "outputs": []
    },
    {
      "cell_type": "code",
      "metadata": {
        "id": "ofmb-FJzwCPP"
      },
      "source": [
        "#directly using the mnist data from keras\n",
        "(X_train ,y_train),(X_test,y_test) =keras.datasets.mnist.load_data()"
      ],
      "execution_count": null,
      "outputs": []
    },
    {
      "cell_type": "code",
      "metadata": {
        "id": "GkIpMVZhGgve"
      },
      "source": [
        "#len\n",
        "print(\"Length of Training data: \",len(X_train))\n",
        "print(\"Length of Test data    : \",len(X_test))"
      ],
      "execution_count": null,
      "outputs": []
    },
    {
      "cell_type": "code",
      "metadata": {
        "id": "vpyKXTyGHFkn"
      },
      "source": [
        "#Scaling the data\n",
        "X_train  =X_train/255\n",
        "X_test   =X_test/255"
      ],
      "execution_count": null,
      "outputs": []
    },
    {
      "cell_type": "code",
      "metadata": {
        "id": "nptV2K-1HcWF"
      },
      "source": [
        "#data visulization\n",
        "plt.matshow(X_train[1])"
      ],
      "execution_count": null,
      "outputs": []
    },
    {
      "cell_type": "code",
      "metadata": {
        "id": "O2tcff-iHf4u"
      },
      "source": [
        "plt.matshow(X_test[1])"
      ],
      "execution_count": null,
      "outputs": []
    },
    {
      "cell_type": "code",
      "metadata": {
        "id": "jH7rts5KH04x"
      },
      "source": [
        "#type of target values in training set\n",
        "np.unique(y_train)"
      ],
      "execution_count": null,
      "outputs": []
    },
    {
      "cell_type": "code",
      "metadata": {
        "id": "9sVd0kkxH-hb"
      },
      "source": [
        "#type of target values in y_test\n",
        "np.unique(y_test)"
      ],
      "execution_count": null,
      "outputs": []
    },
    {
      "cell_type": "code",
      "metadata": {
        "id": "vjpTxo0sIJ24"
      },
      "source": [
        "#count of target values per output to check wheather data is balanced of not in traning set\n",
        "unique_element ,count_element =np.unique(y_train,return_counts=True)\n",
        "print(np.asarray((unique_element,count_element)))"
      ],
      "execution_count": null,
      "outputs": []
    },
    {
      "cell_type": "code",
      "metadata": {
        "id": "lfb18UV2I5nM"
      },
      "source": [
        "#count of target values per output to check the test data is balanced or not\n",
        "unique_element ,count_element =np.unique(y_test,return_counts=True)\n",
        "print(np.asarray((unique_element,count_element)))"
      ],
      "execution_count": null,
      "outputs": []
    },
    {
      "cell_type": "code",
      "metadata": {
        "id": "vtz2r89VKEEH"
      },
      "source": [
        "#flattining the data\n",
        "X_train_flatten =X_train.reshape(len(X_train),28*28)\n",
        "X_test_flatten =X_test.reshape(len(X_test),28*28)"
      ],
      "execution_count": null,
      "outputs": []
    },
    {
      "cell_type": "code",
      "metadata": {
        "id": "1Cc3W9vBN0dn"
      },
      "source": [
        "#shape of data\n",
        "print(\"Shape :\")\n",
        "print(\"Train of X_train_flatten:\",X_train_flatten.shape)\n",
        "print(\"Test of X_test_flatten:\",X_test_flatten.shape)"
      ],
      "execution_count": null,
      "outputs": []
    },
    {
      "cell_type": "code",
      "metadata": {
        "id": "6RllPGiuOKoR"
      },
      "source": [
        "#X_train_flatten\n",
        "X_train_flatten[1]"
      ],
      "execution_count": null,
      "outputs": []
    },
    {
      "cell_type": "code",
      "metadata": {
        "id": "w3-JqXglQ148"
      },
      "source": [
        "#model\n",
        "model =Sequential()\n",
        "#1st hidden layers\n",
        "model.add(Dense(units=30, activation='relu', use_bias=True, kernel_initializer='he_uniform',input_shape=(784,)))\n",
        "#2nd hidden layers \n",
        "model.add(Dense(units=45,activation='relu',kernel_initializer='he_uniform'))\n",
        "#3rd hidden layers \n",
        "model.add(Dense(units=20,activation='relu',kernel_initializer='he_uniform'))\n",
        "#output_layers\n",
        "model.add(Dense(units=10,activation='sigmoid',kernel_initializer='glorot_uniform'))"
      ],
      "execution_count": null,
      "outputs": []
    },
    {
      "cell_type": "code",
      "metadata": {
        "id": "yIBnaWBgSmz-"
      },
      "source": [
        "#model_summary\n",
        "model.summary()"
      ],
      "execution_count": null,
      "outputs": []
    },
    {
      "cell_type": "code",
      "metadata": {
        "id": "8Xd8qDBwZryQ"
      },
      "source": [
        "#compile_model\n",
        "model.compile(optimizer='adam',loss='sparse_categorical_crossentropy',metrics=['accuracy'])\n",
        "model.fit(X_train_flatten,y_train,batch_size=32,epochs=50,validation_split=0.3)"
      ],
      "execution_count": null,
      "outputs": []
    },
    {
      "cell_type": "code",
      "metadata": {
        "id": "IsU6-B4NhoFh"
      },
      "source": [
        "#save this model so that we can do testing by using tgis model..\n",
        "#save it as h5 file\n",
        "from tensorflow.keras.models import load_model\n",
        "model.save('model_digit_classification.h5')"
      ],
      "execution_count": null,
      "outputs": []
    },
    {
      "cell_type": "code",
      "metadata": {
        "id": "0ETv0qLuav_0"
      },
      "source": [
        "#evaluate model\n",
        "model.evaluate(X_test_flatten,y_test)"
      ],
      "execution_count": null,
      "outputs": []
    },
    {
      "cell_type": "code",
      "metadata": {
        "id": "EqIBZg9OcqHD"
      },
      "source": [
        "#predicted_data\n",
        "y_predict = model.predict(X_test_flatten)"
      ],
      "execution_count": null,
      "outputs": []
    },
    {
      "cell_type": "code",
      "metadata": {
        "id": "s4DBmO6gdDuV"
      },
      "source": [
        "#chcek the predicted data\n",
        "y_predict[0]"
      ],
      "execution_count": null,
      "outputs": []
    },
    {
      "cell_type": "markdown",
      "metadata": {
        "id": "RRIGjK3Id90m"
      },
      "source": [
        "Correct Classified:\n"
      ]
    },
    {
      "cell_type": "code",
      "metadata": {
        "id": "fEyJdQb0dSBu"
      },
      "source": [
        "plt.matshow(X_test[3])"
      ],
      "execution_count": null,
      "outputs": []
    },
    {
      "cell_type": "code",
      "metadata": {
        "id": "2iDZct31dZkB"
      },
      "source": [
        "np.argmax(y_predict[3])"
      ],
      "execution_count": null,
      "outputs": []
    },
    {
      "cell_type": "code",
      "metadata": {
        "id": "wLhyyuD4eKgc"
      },
      "source": [
        "plt.matshow(X_test[0])"
      ],
      "execution_count": null,
      "outputs": []
    },
    {
      "cell_type": "code",
      "metadata": {
        "id": "VxcHty15dh1h"
      },
      "source": [
        "np.argmax(y_predict[0])"
      ],
      "execution_count": null,
      "outputs": []
    },
    {
      "cell_type": "code",
      "metadata": {
        "id": "OsNozEMteYYn"
      },
      "source": [
        "#checking the unique values .\n",
        "np.unique(y_test,axis=0)"
      ],
      "execution_count": null,
      "outputs": []
    },
    {
      "cell_type": "code",
      "metadata": {
        "id": "wt2LRMR4e7Oy"
      },
      "source": [
        "##coverting the y_pred values lables as y_test\n",
        "y_pred_label =[np.argmax(i) for i in y_predict]\n",
        "np.unique(y_pred_label,axis=0)"
      ],
      "execution_count": null,
      "outputs": []
    },
    {
      "cell_type": "code",
      "metadata": {
        "id": "GGIokNKue-2_"
      },
      "source": [
        "#confusion matrix\n",
        "cm =tf.math.confusion_matrix(y_test,y_pred_label)\n",
        "cm"
      ],
      "execution_count": null,
      "outputs": []
    },
    {
      "cell_type": "code",
      "metadata": {
        "id": "E_Qcq-qMfFFx"
      },
      "source": [
        "##heatplot confusion_matrix\n",
        "plt.figure(figsize=(10,8))\n",
        "sns.set_style('darkgrid')\n",
        "plt.title(\"Confusion_Matrix\")\n",
        "sns.heatmap(cm,cbar=True,square=True,annot=True,annot_kws={'size':10},cmap='Pastel2_r',fmt='.2f')\n",
        "plt.xlabel(\"Predicted_Data\")\n",
        "plt.ylabel(\"Actual_Data\")\n",
        "plt.plot()"
      ],
      "execution_count": null,
      "outputs": []
    },
    {
      "cell_type": "code",
      "metadata": {
        "id": "TU3oUeSCfqpF"
      },
      "source": [
        ""
      ],
      "execution_count": null,
      "outputs": []
    }
  ]
}