{
  "nbformat": 4,
  "nbformat_minor": 0,
  "metadata": {
    "colab": {
      "name": "MNIST Handwritten Digit Classification.ipynb",
      "provenance": []
    },
    "kernelspec": {
      "name": "python3",
      "display_name": "Python 3"
    },
    "language_info": {
      "name": "python"
    }
  },
  "cells": [
    {
      "cell_type": "markdown",
      "metadata": {
        "id": "QPMN869ovW2V"
      },
      "source": [
        "# **Develop A Neural Network That Can Read Handwriting**"
      ]
    },
    {
      "cell_type": "markdown",
      "metadata": {
        "id": "W0qsfMUov1WI"
      },
      "source": [
        "*DataSet_Link*: https://en.wikipedia.org/wiki/MNIST_database \n"
      ]
    },
    {
      "cell_type": "markdown",
      "metadata": {
        "id": "4TCnVob0i3iE"
      },
      "source": [
        "Author :Saurabh_Kumar\n",
        "\n",
        "Date   :20_Sept_21\n",
        "\n",
        "Task3  :01"
      ]
    },
    {
      "cell_type": "code",
      "metadata": {
        "id": "2JjhBvoawCfl"
      },
      "source": [
        "#import lib..\n",
        "import numpy as np\n",
        "import pandas as pd\n",
        "import seaborn as sns\n",
        "sns.set_style('darkgrid')\n",
        "import matplotlib.pyplot as plt\n",
        "import matplotlib_inline"
      ],
      "execution_count": 1,
      "outputs": []
    },
    {
      "cell_type": "code",
      "metadata": {
        "id": "B4lhasXtwCbs"
      },
      "source": [
        "#importing warnings for get rid to long error \n",
        "import warnings\n",
        "warnings.filterwarnings(\"ignore\")"
      ],
      "execution_count": 2,
      "outputs": []
    },
    {
      "cell_type": "code",
      "metadata": {
        "id": "VgHZsYTswCZw"
      },
      "source": [
        "#importing keras from tensorflow (working in backend)\n",
        "import tensorflow as tf\n",
        "from tensorflow import keras \n",
        "from keras import Sequential\n",
        "from keras import Model\n",
        "from keras.layers import Dense\n",
        "from keras import layers\n"
      ],
      "execution_count": 3,
      "outputs": []
    },
    {
      "cell_type": "code",
      "metadata": {
        "id": "ofmb-FJzwCPP"
      },
      "source": [
        "#directly using the mnist data from keras\n",
        "(X_train ,y_train),(X_test,y_test) =keras.datasets.mnist.load_data()"
      ],
      "execution_count": 4,
      "outputs": []
    },
    {
      "cell_type": "code",
      "metadata": {
        "colab": {
          "base_uri": "https://localhost:8080/"
        },
        "id": "GkIpMVZhGgve",
        "outputId": "d9f78097-e458-4b1e-d098-310a54e6f910"
      },
      "source": [
        "#len\n",
        "print(\"Length of Training data: \",len(X_train))\n",
        "print(\"Length of Test data    : \",len(X_test))"
      ],
      "execution_count": 5,
      "outputs": [
        {
          "output_type": "stream",
          "name": "stdout",
          "text": [
            "Length of Training data:  60000\n",
            "Length of Test data    :  10000\n"
          ]
        }
      ]
    },
    {
      "cell_type": "code",
      "metadata": {
        "id": "vpyKXTyGHFkn"
      },
      "source": [
        "#Scaling the data\n",
        "X_train  =X_train/255\n",
        "X_test   =X_test/255"
      ],
      "execution_count": 6,
      "outputs": []
    },
    {
      "cell_type": "code",
      "metadata": {
        "colab": {
          "base_uri": "https://localhost:8080/",
          "height": 292
        },
        "id": "nptV2K-1HcWF",
        "outputId": "410c8760-e441-47ab-8936-0633f22b1d9e"
      },
      "source": [
        "#data visulization\n",
        "plt.matshow(X_train[1])"
      ],
      "execution_count": 7,
      "outputs": [
        {
          "output_type": "execute_result",
          "data": {
            "text/plain": [
              "<matplotlib.image.AxesImage at 0x7fd2a625ba10>"
            ]
          },
          "metadata": {},
          "execution_count": 7
        },
        {
          "output_type": "display_data",
          "data": {
            "image/png": "[encoded data removed]",
            "text/plain": [
              "<Figure size 288x288 with 1 Axes>"
            ]
          },
          "metadata": {
            "needs_background": "light"
          }
        }
      ]
    },
    {
      "cell_type": "code",
      "metadata": {
        "colab": {
          "base_uri": "https://localhost:8080/",
          "height": 292
        },
        "id": "O2tcff-iHf4u",
        "outputId": "b4b27175-5af3-474c-80b4-a99f3a7f32eb"
      },
      "source": [
        "plt.matshow(X_test[1])"
      ],
      "execution_count": 8,
      "outputs": [
        {
          "output_type": "execute_result",
          "data": {
            "text/plain": [
              "<matplotlib.image.AxesImage at 0x7fd2a5d493d0>"
            ]
          },
          "metadata": {},
          "execution_count": 8
        },
        {
          "output_type": "display_data",
          "data": {
            "image/png": "[encoded data removed]",
            "text/plain": [
              "<Figure size 288x288 with 1 Axes>"
            ]
          },
          "metadata": {
            "needs_background": "light"
          }
        }
      ]
    },
    {
      "cell_type": "code",
      "metadata": {
        "colab": {
          "base_uri": "https://localhost:8080/"
        },
        "id": "jH7rts5KH04x",
        "outputId": "45258745-4709-4291-e46c-0acb14fc56ff"
      },
      "source": [
        "#type of target values in training set\n",
        "np.unique(y_train)"
      ],
      "execution_count": 9,
      "outputs": [
        {
          "output_type": "execute_result",
          "data": {
            "text/plain": [
              "array([0, 1, 2, 3, 4, 5, 6, 7, 8, 9], dtype=uint8)"
            ]
          },
          "metadata": {},
          "execution_count": 9
        }
      ]
    },
    {
      "cell_type": "code",
      "metadata": {
        "colab": {
          "base_uri": "https://localhost:8080/"
        },
        "id": "9sVd0kkxH-hb",
        "outputId": "813bc6b1-9e7a-45ee-adc4-d79ae85d1cb6"
      },
      "source": [
        "#type of target values in y_test\n",
        "np.unique(y_test)"
      ],
      "execution_count": 10,
      "outputs": [
        {
          "output_type": "execute_result",
          "data": {
            "text/plain": [
              "array([0, 1, 2, 3, 4, 5, 6, 7, 8, 9], dtype=uint8)"
            ]
          },
          "metadata": {},
          "execution_count": 10
        }
      ]
    },
    {
      "cell_type": "code",
      "metadata": {
        "colab": {
          "base_uri": "https://localhost:8080/"
        },
        "id": "vjpTxo0sIJ24",
        "outputId": "86c0202e-daa9-4ed5-93c8-2bb1d4a934b6"
      },
      "source": [
        "#count of target values per output to check wheather data is balanced of not in traning set\n",
        "unique_element ,count_element =np.unique(y_train,return_counts=True)\n",
        "print(np.asarray((unique_element,count_element)))"
      ],
      "execution_count": 11,
      "outputs": [
        {
          "output_type": "stream",
          "name": "stdout",
          "text": [
            "[[   0    1    2    3    4    5    6    7    8    9]\n",
            " [5923 6742 5958 6131 5842 5421 5918 6265 5851 5949]]\n"
          ]
        }
      ]
    },
    {
      "cell_type": "code",
      "metadata": {
        "colab": {
          "base_uri": "https://localhost:8080/"
        },
        "id": "lfb18UV2I5nM",
        "outputId": "e31f1f18-7d0b-4349-ebce-ad387ec1fd85"
      },
      "source": [
        "#count of target values per output to check the test data is balanced or not\n",
        "unique_element ,count_element =np.unique(y_test,return_counts=True)\n",
        "print(np.asarray((unique_element,count_element)))"
      ],
      "execution_count": 12,
      "outputs": [
        {
          "output_type": "stream",
          "name": "stdout",
          "text": [
            "[[   0    1    2    3    4    5    6    7    8    9]\n",
            " [ 980 1135 1032 1010  982  892  958 1028  974 1009]]\n"
          ]
        }
      ]
    },
    {
      "cell_type": "code",
      "metadata": {
        "id": "vtz2r89VKEEH"
      },
      "source": [
        "#flattining the data\n",
        "X_train_flatten =X_train.reshape(len(X_train),28*28)\n",
        "X_test_flatten =X_test.reshape(len(X_test),28*28)"
      ],
      "execution_count": 13,
      "outputs": []
    },
    {
      "cell_type": "code",
      "metadata": {
        "colab": {
          "base_uri": "https://localhost:8080/"
        },
        "id": "1Cc3W9vBN0dn",
        "outputId": "9b1d9412-9921-4152-f996-db4d5ccc6c01"
      },
      "source": [
        "#shape of data\n",
        "print(\"Shape :\")\n",
        "print(\"Train of X_train_flatten:\",X_train_flatten.shape)\n",
        "print(\"Test of X_test_flatten:\",X_test_flatten.shape)"
      ],
      "execution_count": 14,
      "outputs": [
        {
          "output_type": "stream",
          "name": "stdout",
          "text": [
            "Shape :\n",
            "Train of X_train_flatten: (60000, 784)\n",
            "Test of X_test_flatten: (10000, 784)\n"
          ]
        }
      ]
    },
    {
      "cell_type": "code",
      "metadata": {
        "colab": {
          "base_uri": "https://localhost:8080/"
        },
        "id": "6RllPGiuOKoR",
        "outputId": "82b750fd-7df7-459b-86dc-daf17dbde28c"
      },
      "source": [
        "#X_train_flatten\n",
        "X_train_flatten[1]"
      ],
      "execution_count": 15,
      "outputs": [
        {
          "output_type": "execute_result",
          "data": {
            "text/plain": [
              "array([0.        , 0.        , 0.        , 0.        , 0.        ,\n",
              "       0.        , 0.        , 0.        , 0.        , 0.        ,\n",
              "       0.        , 0.        , 0.        , 0.        , 0.        ,\n",
              "       0.        , 0.        , 0.        , 0.        , 0.        ,\n",
              "       0.        , 0.        , 0.        , 0.        , 0.        ,\n",
              "       0.        , 0.        , 0.        , 0.        , 0.        ,\n",
              "       0.        , 0.        , 0.        , 0.        , 0.        ,\n",
              "       0.        , 0.        , 0.        , 0.        , 0.        ,\n",
              "       0.        , 0.        , 0.        , 0.        , 0.        ,\n",
              "       0.        , 0.        , 0.        , 0.        , 0.        ,\n",
              "       0.        , 0.        , 0.        , 0.        , 0.        ,\n",
              "       0.        , 0.        , 0.        , 0.        , 0.        ,\n",
              "       0.        , 0.        , 0.        , 0.        , 0.        ,\n",
              "       0.        , 0.        , 0.        , 0.        , 0.        ,\n",
              "       0.        , 0.        , 0.        , 0.        , 0.        ,\n",
              "       0.        , 0.        , 0.        , 0.        , 0.        ,\n",
              "       0.        , 0.        , 0.        , 0.        , 0.        ,\n",
              "       0.        , 0.        , 0.        , 0.        , 0.        ,\n",
              "       0.        , 0.        , 0.        , 0.        , 0.        ,\n",
              "       0.        , 0.        , 0.        , 0.        , 0.        ,\n",
              "       0.        , 0.        , 0.        , 0.        , 0.        ,\n",
              "       0.        , 0.        , 0.        , 0.        , 0.        ,\n",
              "       0.        , 0.        , 0.        , 0.        , 0.        ,\n",
              "       0.        , 0.        , 0.        , 0.        , 0.        ,\n",
              "       0.        , 0.        , 0.        , 0.        , 0.        ,\n",
              "       0.        , 0.        , 0.2       , 0.62352941, 0.99215686,\n",
              "       0.62352941, 0.19607843, 0.        , 0.        , 0.        ,\n",
              "       0.        , 0.        , 0.        , 0.        , 0.        ,\n",
              "       0.        , 0.        , 0.        , 0.        , 0.        ,\n",
              "       0.        , 0.        , 0.        , 0.        , 0.        ,\n",
              "       0.        , 0.        , 0.        , 0.        , 0.18823529,\n",
              "       0.93333333, 0.98823529, 0.98823529, 0.98823529, 0.92941176,\n",
              "       0.        , 0.        , 0.        , 0.        , 0.        ,\n",
              "       0.        , 0.        , 0.        , 0.        , 0.        ,\n",
              "       0.        , 0.        , 0.        , 0.        , 0.        ,\n",
              "       0.        , 0.        , 0.        , 0.        , 0.        ,\n",
              "       0.        , 0.21176471, 0.89019608, 0.99215686, 0.98823529,\n",
              "       0.9372549 , 0.91372549, 0.98823529, 0.22352941, 0.02352941,\n",
              "       0.        , 0.        , 0.        , 0.        , 0.        ,\n",
              "       0.        , 0.        , 0.        , 0.        , 0.        ,\n",
              "       0.        , 0.        , 0.        , 0.        , 0.        ,\n",
              "       0.        , 0.        , 0.03921569, 0.23529412, 0.87843137,\n",
              "       0.98823529, 0.99215686, 0.98823529, 0.79215686, 0.32941176,\n",
              "       0.98823529, 0.99215686, 0.47843137, 0.        , 0.        ,\n",
              "       0.        , 0.        , 0.        , 0.        , 0.        ,\n",
              "       0.        , 0.        , 0.        , 0.        , 0.        ,\n",
              "       0.        , 0.        , 0.        , 0.        , 0.        ,\n",
              "       0.63921569, 0.98823529, 0.98823529, 0.98823529, 0.99215686,\n",
              "       0.98823529, 0.98823529, 0.37647059, 0.74117647, 0.99215686,\n",
              "       0.65490196, 0.        , 0.        , 0.        , 0.        ,\n",
              "       0.        , 0.        , 0.        , 0.        , 0.        ,\n",
              "       0.        , 0.        , 0.        , 0.        , 0.        ,\n",
              "       0.        , 0.        , 0.2       , 0.93333333, 0.99215686,\n",
              "       0.99215686, 0.74509804, 0.44705882, 0.99215686, 0.89411765,\n",
              "       0.18431373, 0.30980392, 1.        , 0.65882353, 0.        ,\n",
              "       0.        , 0.        , 0.        , 0.        , 0.        ,\n",
              "       0.        , 0.        , 0.        , 0.        , 0.        ,\n",
              "       0.        , 0.        , 0.        , 0.        , 0.18823529,\n",
              "       0.93333333, 0.98823529, 0.98823529, 0.70196078, 0.04705882,\n",
              "       0.29411765, 0.4745098 , 0.08235294, 0.        , 0.        ,\n",
              "       0.99215686, 0.95294118, 0.19607843, 0.        , 0.        ,\n",
              "       0.        , 0.        , 0.        , 0.        , 0.        ,\n",
              "       0.        , 0.        , 0.        , 0.        , 0.        ,\n",
              "       0.        , 0.14901961, 0.64705882, 0.99215686, 0.91372549,\n",
              "       0.81568627, 0.32941176, 0.        , 0.        , 0.        ,\n",
              "       0.        , 0.        , 0.        , 0.99215686, 0.98823529,\n",
              "       0.64705882, 0.        , 0.        , 0.        , 0.        ,\n",
              "       0.        , 0.        , 0.        , 0.        , 0.        ,\n",
              "       0.        , 0.        , 0.        , 0.02745098, 0.69803922,\n",
              "       0.98823529, 0.94117647, 0.27843137, 0.0745098 , 0.10980392,\n",
              "       0.        , 0.        , 0.        , 0.        , 0.        ,\n",
              "       0.        , 0.99215686, 0.98823529, 0.76470588, 0.        ,\n",
              "       0.        , 0.        , 0.        , 0.        , 0.        ,\n",
              "       0.        , 0.        , 0.        , 0.        , 0.        ,\n",
              "       0.        , 0.22352941, 0.98823529, 0.98823529, 0.24705882,\n",
              "       0.        , 0.        , 0.        , 0.        , 0.        ,\n",
              "       0.        , 0.        , 0.        , 0.        , 0.99215686,\n",
              "       0.98823529, 0.76470588, 0.        , 0.        , 0.        ,\n",
              "       0.        , 0.        , 0.        , 0.        , 0.        ,\n",
              "       0.        , 0.        , 0.        , 0.        , 0.77647059,\n",
              "       0.99215686, 0.74509804, 0.        , 0.        , 0.        ,\n",
              "       0.        , 0.        , 0.        , 0.        , 0.        ,\n",
              "       0.        , 0.        , 1.        , 0.99215686, 0.76862745,\n",
              "       0.        , 0.        , 0.        , 0.        , 0.        ,\n",
              "       0.        , 0.        , 0.        , 0.        , 0.        ,\n",
              "       0.        , 0.29803922, 0.96470588, 0.98823529, 0.43921569,\n",
              "       0.        , 0.        , 0.        , 0.        , 0.        ,\n",
              "       0.        , 0.        , 0.        , 0.        , 0.        ,\n",
              "       0.99215686, 0.98823529, 0.58039216, 0.        , 0.        ,\n",
              "       0.        , 0.        , 0.        , 0.        , 0.        ,\n",
              "       0.        , 0.        , 0.        , 0.        , 0.33333333,\n",
              "       0.98823529, 0.90196078, 0.09803922, 0.        , 0.        ,\n",
              "       0.        , 0.        , 0.        , 0.        , 0.        ,\n",
              "       0.        , 0.02745098, 0.52941176, 0.99215686, 0.72941176,\n",
              "       0.04705882, 0.        , 0.        , 0.        , 0.        ,\n",
              "       0.        , 0.        , 0.        , 0.        , 0.        ,\n",
              "       0.        , 0.        , 0.33333333, 0.98823529, 0.8745098 ,\n",
              "       0.        , 0.        , 0.        , 0.        , 0.        ,\n",
              "       0.        , 0.        , 0.        , 0.02745098, 0.51372549,\n",
              "       0.98823529, 0.88235294, 0.27843137, 0.        , 0.        ,\n",
              "       0.        , 0.        , 0.        , 0.        , 0.        ,\n",
              "       0.        , 0.        , 0.        , 0.        , 0.        ,\n",
              "       0.33333333, 0.98823529, 0.56862745, 0.        , 0.        ,\n",
              "       0.        , 0.        , 0.        , 0.        , 0.        ,\n",
              "       0.18823529, 0.64705882, 0.98823529, 0.67843137, 0.        ,\n",
              "       0.        , 0.        , 0.        , 0.        , 0.        ,\n",
              "       0.        , 0.        , 0.        , 0.        , 0.        ,\n",
              "       0.        , 0.        , 0.        , 0.3372549 , 0.99215686,\n",
              "       0.88235294, 0.        , 0.        , 0.        , 0.        ,\n",
              "       0.        , 0.        , 0.44705882, 0.93333333, 0.99215686,\n",
              "       0.63529412, 0.        , 0.        , 0.        , 0.        ,\n",
              "       0.        , 0.        , 0.        , 0.        , 0.        ,\n",
              "       0.        , 0.        , 0.        , 0.        , 0.        ,\n",
              "       0.        , 0.33333333, 0.98823529, 0.97647059, 0.57254902,\n",
              "       0.18823529, 0.11372549, 0.33333333, 0.69803922, 0.88235294,\n",
              "       0.99215686, 0.8745098 , 0.65490196, 0.21960784, 0.        ,\n",
              "       0.        , 0.        , 0.        , 0.        , 0.        ,\n",
              "       0.        , 0.        , 0.        , 0.        , 0.        ,\n",
              "       0.        , 0.        , 0.        , 0.        , 0.33333333,\n",
              "       0.98823529, 0.98823529, 0.98823529, 0.89803922, 0.84313725,\n",
              "       0.98823529, 0.98823529, 0.98823529, 0.76862745, 0.50980392,\n",
              "       0.        , 0.        , 0.        , 0.        , 0.        ,\n",
              "       0.        , 0.        , 0.        , 0.        , 0.        ,\n",
              "       0.        , 0.        , 0.        , 0.        , 0.        ,\n",
              "       0.        , 0.        , 0.10980392, 0.78039216, 0.98823529,\n",
              "       0.98823529, 0.99215686, 0.98823529, 0.98823529, 0.91372549,\n",
              "       0.56862745, 0.        , 0.        , 0.        , 0.        ,\n",
              "       0.        , 0.        , 0.        , 0.        , 0.        ,\n",
              "       0.        , 0.        , 0.        , 0.        , 0.        ,\n",
              "       0.        , 0.        , 0.        , 0.        , 0.        ,\n",
              "       0.        , 0.09803922, 0.50196078, 0.98823529, 0.99215686,\n",
              "       0.98823529, 0.55294118, 0.14509804, 0.        , 0.        ,\n",
              "       0.        , 0.        , 0.        , 0.        , 0.        ,\n",
              "       0.        , 0.        , 0.        , 0.        , 0.        ,\n",
              "       0.        , 0.        , 0.        , 0.        , 0.        ,\n",
              "       0.        , 0.        , 0.        , 0.        , 0.        ,\n",
              "       0.        , 0.        , 0.        , 0.        , 0.        ,\n",
              "       0.        , 0.        , 0.        , 0.        , 0.        ,\n",
              "       0.        , 0.        , 0.        , 0.        , 0.        ,\n",
              "       0.        , 0.        , 0.        , 0.        , 0.        ,\n",
              "       0.        , 0.        , 0.        , 0.        , 0.        ,\n",
              "       0.        , 0.        , 0.        , 0.        , 0.        ,\n",
              "       0.        , 0.        , 0.        , 0.        , 0.        ,\n",
              "       0.        , 0.        , 0.        , 0.        , 0.        ,\n",
              "       0.        , 0.        , 0.        , 0.        , 0.        ,\n",
              "       0.        , 0.        , 0.        , 0.        , 0.        ,\n",
              "       0.        , 0.        , 0.        , 0.        , 0.        ,\n",
              "       0.        , 0.        , 0.        , 0.        , 0.        ,\n",
              "       0.        , 0.        , 0.        , 0.        , 0.        ,\n",
              "       0.        , 0.        , 0.        , 0.        , 0.        ,\n",
              "       0.        , 0.        , 0.        , 0.        , 0.        ,\n",
              "       0.        , 0.        , 0.        , 0.        , 0.        ,\n",
              "       0.        , 0.        , 0.        , 0.        , 0.        ,\n",
              "       0.        , 0.        , 0.        , 0.        , 0.        ,\n",
              "       0.        , 0.        , 0.        , 0.        , 0.        ,\n",
              "       0.        , 0.        , 0.        , 0.        , 0.        ,\n",
              "       0.        , 0.        , 0.        , 0.        ])"
            ]
          },
          "metadata": {},
          "execution_count": 15
        }
      ]
    },
    {
      "cell_type": "code",
      "metadata": {
        "id": "w3-JqXglQ148"
      },
      "source": [
        "#model\n",
        "model =Sequential()\n",
        "#1st hidden layers\n",
        "model.add(Dense(units=30, activation='relu', use_bias=True, kernel_initializer='he_uniform',input_shape=(784,)))\n",
        "#2nd hidden layers \n",
        "model.add(Dense(units=45,activation='relu',kernel_initializer='he_uniform'))\n",
        "#3rd hidden layers \n",
        "model.add(Dense(units=20,activation='relu',kernel_initializer='he_uniform'))\n",
        "#output_layers\n",
        "model.add(Dense(units=10,activation='sigmoid',kernel_initializer='glorot_uniform'))"
      ],
      "execution_count": 16,
      "outputs": []
    },
    {
      "cell_type": "code",
      "metadata": {
        "colab": {
          "base_uri": "https://localhost:8080/"
        },
        "id": "yIBnaWBgSmz-",
        "outputId": "40364eb4-553f-430c-8e44-562cdd2e423d"
      },
      "source": [
        "#model_summary\n",
        "model.summary()"
      ],
      "execution_count": 17,
      "outputs": [
        {
          "output_type": "stream",
          "name": "stdout",
          "text": [
            "Model: \"sequential\"\n",
            "_________________________________________________________________\n",
            "Layer (type)                 Output Shape              Param #   \n",
            "=================================================================\n",
            "dense (Dense)                (None, 30)                23550     \n",
            "_________________________________________________________________\n",
            "dense_1 (Dense)              (None, 45)                1395      \n",
            "_________________________________________________________________\n",
            "dense_2 (Dense)              (None, 20)                920       \n",
            "_________________________________________________________________\n",
            "dense_3 (Dense)              (None, 10)                210       \n",
            "=================================================================\n",
            "Total params: 26,075\n",
            "Trainable params: 26,075\n",
            "Non-trainable params: 0\n",
            "_________________________________________________________________\n"
          ]
        }
      ]
    },
    {
      "cell_type": "code",
      "metadata": {
        "colab": {
          "base_uri": "https://localhost:8080/"
        },
        "id": "8Xd8qDBwZryQ",
        "outputId": "55173c45-c98d-4906-9cd8-b2ec9c13a396"
      },
      "source": [
        "#compile_model\n",
        "model.compile(optimizer='adam',loss='sparse_categorical_crossentropy',metrics=['accuracy'])\n",
        "model.fit(X_train_flatten,y_train,batch_size=32,epochs=50,validation_split=0.3)"
      ],
      "execution_count": 18,
      "outputs": [
        {
          "output_type": "stream",
          "name": "stdout",
          "text": [
            "Epoch 1/50\n",
            "1313/1313 [==============================] - 4s 2ms/step - loss: 0.4020 - accuracy: 0.8801 - val_loss: 0.2441 - val_accuracy: 0.9274\n",
            "Epoch 2/50\n",
            "1313/1313 [==============================] - 3s 2ms/step - loss: 0.1893 - accuracy: 0.9437 - val_loss: 0.1816 - val_accuracy: 0.9467\n",
            "Epoch 3/50\n",
            "1313/1313 [==============================] - 3s 2ms/step - loss: 0.1434 - accuracy: 0.9575 - val_loss: 0.1555 - val_accuracy: 0.9544\n",
            "Epoch 4/50\n",
            "1313/1313 [==============================] - 3s 2ms/step - loss: 0.1199 - accuracy: 0.9637 - val_loss: 0.1525 - val_accuracy: 0.9554\n",
            "Epoch 5/50\n",
            "1313/1313 [==============================] - 3s 2ms/step - loss: 0.1046 - accuracy: 0.9681 - val_loss: 0.1519 - val_accuracy: 0.9557\n",
            "Epoch 6/50\n",
            "1313/1313 [==============================] - 3s 2ms/step - loss: 0.0926 - accuracy: 0.9710 - val_loss: 0.1660 - val_accuracy: 0.9537\n",
            "Epoch 7/50\n",
            "1313/1313 [==============================] - 3s 2ms/step - loss: 0.0839 - accuracy: 0.9736 - val_loss: 0.1416 - val_accuracy: 0.9622\n",
            "Epoch 8/50\n",
            "1313/1313 [==============================] - 3s 2ms/step - loss: 0.0740 - accuracy: 0.9770 - val_loss: 0.1515 - val_accuracy: 0.9589\n",
            "Epoch 9/50\n",
            "1313/1313 [==============================] - 3s 2ms/step - loss: 0.0671 - accuracy: 0.9792 - val_loss: 0.1748 - val_accuracy: 0.9569\n",
            "Epoch 10/50\n",
            "1313/1313 [==============================] - 3s 2ms/step - loss: 0.0639 - accuracy: 0.9799 - val_loss: 0.1532 - val_accuracy: 0.9597\n",
            "Epoch 11/50\n",
            "1313/1313 [==============================] - 3s 2ms/step - loss: 0.0581 - accuracy: 0.9817 - val_loss: 0.1523 - val_accuracy: 0.9599\n",
            "Epoch 12/50\n",
            "1313/1313 [==============================] - 3s 2ms/step - loss: 0.0513 - accuracy: 0.9831 - val_loss: 0.1475 - val_accuracy: 0.9640\n",
            "Epoch 13/50\n",
            "1313/1313 [==============================] - 3s 2ms/step - loss: 0.0492 - accuracy: 0.9844 - val_loss: 0.1472 - val_accuracy: 0.9624\n",
            "Epoch 14/50\n",
            "1313/1313 [==============================] - 3s 2ms/step - loss: 0.0424 - accuracy: 0.9862 - val_loss: 0.1550 - val_accuracy: 0.9633\n",
            "Epoch 15/50\n",
            "1313/1313 [==============================] - 3s 2ms/step - loss: 0.0421 - accuracy: 0.9859 - val_loss: 0.1648 - val_accuracy: 0.9597\n",
            "Epoch 16/50\n",
            "1313/1313 [==============================] - 3s 2ms/step - loss: 0.0419 - accuracy: 0.9863 - val_loss: 0.1679 - val_accuracy: 0.9621\n",
            "Epoch 17/50\n",
            "1313/1313 [==============================] - 3s 2ms/step - loss: 0.0363 - accuracy: 0.9878 - val_loss: 0.1716 - val_accuracy: 0.9644\n",
            "Epoch 18/50\n",
            "1313/1313 [==============================] - 3s 2ms/step - loss: 0.0343 - accuracy: 0.9885 - val_loss: 0.1629 - val_accuracy: 0.9642\n",
            "Epoch 19/50\n",
            "1313/1313 [==============================] - 3s 2ms/step - loss: 0.0308 - accuracy: 0.9898 - val_loss: 0.1931 - val_accuracy: 0.9609\n",
            "Epoch 20/50\n",
            "1313/1313 [==============================] - 3s 2ms/step - loss: 0.0315 - accuracy: 0.9892 - val_loss: 0.1884 - val_accuracy: 0.9617\n",
            "Epoch 21/50\n",
            "1313/1313 [==============================] - 3s 2ms/step - loss: 0.0290 - accuracy: 0.9904 - val_loss: 0.1773 - val_accuracy: 0.9626\n",
            "Epoch 22/50\n",
            "1313/1313 [==============================] - 3s 2ms/step - loss: 0.0274 - accuracy: 0.9913 - val_loss: 0.1895 - val_accuracy: 0.9626\n",
            "Epoch 23/50\n",
            "1313/1313 [==============================] - 3s 2ms/step - loss: 0.0283 - accuracy: 0.9908 - val_loss: 0.2056 - val_accuracy: 0.9607\n",
            "Epoch 24/50\n",
            "1313/1313 [==============================] - 3s 2ms/step - loss: 0.0264 - accuracy: 0.9912 - val_loss: 0.1925 - val_accuracy: 0.9636\n",
            "Epoch 25/50\n",
            "1313/1313 [==============================] - 3s 2ms/step - loss: 0.0259 - accuracy: 0.9915 - val_loss: 0.2159 - val_accuracy: 0.9605\n",
            "Epoch 26/50\n",
            "1313/1313 [==============================] - 3s 2ms/step - loss: 0.0254 - accuracy: 0.9917 - val_loss: 0.2043 - val_accuracy: 0.9642\n",
            "Epoch 27/50\n",
            "1313/1313 [==============================] - 3s 2ms/step - loss: 0.0208 - accuracy: 0.9933 - val_loss: 0.2209 - val_accuracy: 0.9594\n",
            "Epoch 28/50\n",
            "1313/1313 [==============================] - 3s 2ms/step - loss: 0.0224 - accuracy: 0.9931 - val_loss: 0.2110 - val_accuracy: 0.9636\n",
            "Epoch 29/50\n",
            "1313/1313 [==============================] - 3s 2ms/step - loss: 0.0209 - accuracy: 0.9929 - val_loss: 0.2182 - val_accuracy: 0.9624\n",
            "Epoch 30/50\n",
            "1313/1313 [==============================] - 3s 2ms/step - loss: 0.0216 - accuracy: 0.9924 - val_loss: 0.2292 - val_accuracy: 0.9604\n",
            "Epoch 31/50\n",
            "1313/1313 [==============================] - 3s 2ms/step - loss: 0.0177 - accuracy: 0.9942 - val_loss: 0.2279 - val_accuracy: 0.9643\n",
            "Epoch 32/50\n",
            "1313/1313 [==============================] - 3s 2ms/step - loss: 0.0202 - accuracy: 0.9932 - val_loss: 0.2549 - val_accuracy: 0.9612\n",
            "Epoch 33/50\n",
            "1313/1313 [==============================] - 3s 2ms/step - loss: 0.0202 - accuracy: 0.9934 - val_loss: 0.2357 - val_accuracy: 0.9617\n",
            "Epoch 34/50\n",
            "1313/1313 [==============================] - 3s 2ms/step - loss: 0.0174 - accuracy: 0.9937 - val_loss: 0.2581 - val_accuracy: 0.9630\n",
            "Epoch 35/50\n",
            "1313/1313 [==============================] - 3s 2ms/step - loss: 0.0195 - accuracy: 0.9939 - val_loss: 0.2299 - val_accuracy: 0.9647\n",
            "Epoch 36/50\n",
            "1313/1313 [==============================] - 3s 2ms/step - loss: 0.0188 - accuracy: 0.9939 - val_loss: 0.2380 - val_accuracy: 0.9634\n",
            "Epoch 37/50\n",
            "1313/1313 [==============================] - 3s 2ms/step - loss: 0.0150 - accuracy: 0.9951 - val_loss: 0.2922 - val_accuracy: 0.9566\n",
            "Epoch 38/50\n",
            "1313/1313 [==============================] - 3s 2ms/step - loss: 0.0187 - accuracy: 0.9939 - val_loss: 0.2583 - val_accuracy: 0.9644\n",
            "Epoch 39/50\n",
            "1313/1313 [==============================] - 3s 2ms/step - loss: 0.0152 - accuracy: 0.9951 - val_loss: 0.2802 - val_accuracy: 0.9586\n",
            "Epoch 40/50\n",
            "1313/1313 [==============================] - 3s 2ms/step - loss: 0.0153 - accuracy: 0.9949 - val_loss: 0.2383 - val_accuracy: 0.9632\n",
            "Epoch 41/50\n",
            "1313/1313 [==============================] - 3s 2ms/step - loss: 0.0125 - accuracy: 0.9960 - val_loss: 0.2831 - val_accuracy: 0.9604\n",
            "Epoch 42/50\n",
            "1313/1313 [==============================] - 3s 2ms/step - loss: 0.0212 - accuracy: 0.9935 - val_loss: 0.2428 - val_accuracy: 0.9630\n",
            "Epoch 43/50\n",
            "1313/1313 [==============================] - 3s 2ms/step - loss: 0.0135 - accuracy: 0.9959 - val_loss: 0.2599 - val_accuracy: 0.9622\n",
            "Epoch 44/50\n",
            "1313/1313 [==============================] - 3s 2ms/step - loss: 0.0184 - accuracy: 0.9936 - val_loss: 0.2561 - val_accuracy: 0.9647\n",
            "Epoch 45/50\n",
            "1313/1313 [==============================] - 3s 2ms/step - loss: 0.0097 - accuracy: 0.9970 - val_loss: 0.2564 - val_accuracy: 0.9641\n",
            "Epoch 46/50\n",
            "1313/1313 [==============================] - 3s 2ms/step - loss: 0.0182 - accuracy: 0.9941 - val_loss: 0.2750 - val_accuracy: 0.9628\n",
            "Epoch 47/50\n",
            "1313/1313 [==============================] - 3s 2ms/step - loss: 0.0152 - accuracy: 0.9953 - val_loss: 0.2749 - val_accuracy: 0.9631\n",
            "Epoch 48/50\n",
            "1313/1313 [==============================] - 3s 2ms/step - loss: 0.0142 - accuracy: 0.9952 - val_loss: 0.2940 - val_accuracy: 0.9596\n",
            "Epoch 49/50\n",
            "1313/1313 [==============================] - 3s 2ms/step - loss: 0.0102 - accuracy: 0.9965 - val_loss: 0.2926 - val_accuracy: 0.9621\n",
            "Epoch 50/50\n",
            "1313/1313 [==============================] - 3s 2ms/step - loss: 0.0197 - accuracy: 0.9941 - val_loss: 0.2891 - val_accuracy: 0.9643\n"
          ]
        },
        {
          "output_type": "execute_result",
          "data": {
            "text/plain": [
              "<keras.callbacks.History at 0x7fd2a32af450>"
            ]
          },
          "metadata": {},
          "execution_count": 18
        }
      ]
    },
    {
      "cell_type": "code",
      "metadata": {
        "id": "IsU6-B4NhoFh"
      },
      "source": [
        "#save this model so that we can do testing by using tgis model..\n",
        "#save it as h5 file\n",
        "from tensorflow.keras.models import load_model\n",
        "model.save('model_digit_classification.h5')"
      ],
      "execution_count": 19,
      "outputs": []
    },
    {
      "cell_type": "code",
      "metadata": {
        "colab": {
          "base_uri": "https://localhost:8080/"
        },
        "id": "0ETv0qLuav_0",
        "outputId": "d9f8258c-6acb-481e-88e4-46e3a0a1b801"
      },
      "source": [
        "#evaluate model\n",
        "model.evaluate(X_test_flatten,y_test)"
      ],
      "execution_count": 20,
      "outputs": [
        {
          "output_type": "stream",
          "name": "stdout",
          "text": [
            "313/313 [==============================] - 0s 1ms/step - loss: 0.2673 - accuracy: 0.9656\n"
          ]
        },
        {
          "output_type": "execute_result",
          "data": {
            "text/plain": [
              "[0.26727086305618286, 0.9656000137329102]"
            ]
          },
          "metadata": {},
          "execution_count": 20
        }
      ]
    },
    {
      "cell_type": "code",
      "metadata": {
        "id": "EqIBZg9OcqHD"
      },
      "source": [
        "#predicted_data\n",
        "y_predict = model.predict(X_test_flatten)"
      ],
      "execution_count": 21,
      "outputs": []
    },
    {
      "cell_type": "code",
      "metadata": {
        "colab": {
          "base_uri": "https://localhost:8080/"
        },
        "id": "s4DBmO6gdDuV",
        "outputId": "be6b7047-c7c6-4978-f258-70f3ea3d7547"
      },
      "source": [
        "#chcek the predicted data\n",
        "y_predict[0]"
      ],
      "execution_count": 22,
      "outputs": [
        {
          "output_type": "execute_result",
          "data": {
            "text/plain": [
              "array([1.4709170e-06, 4.0834315e-13, 9.3146980e-01, 9.8229891e-01,\n",
              "       7.9199672e-04, 6.1173771e-13, 6.2292819e-24, 1.0000000e+00,\n",
              "       2.6785883e-05, 3.9541900e-02], dtype=float32)"
            ]
          },
          "metadata": {},
          "execution_count": 22
        }
      ]
    },
    {
      "cell_type": "markdown",
      "metadata": {
        "id": "RRIGjK3Id90m"
      },
      "source": [
        "Correct Classified:\n"
      ]
    },
    {
      "cell_type": "code",
      "metadata": {
        "colab": {
          "base_uri": "https://localhost:8080/",
          "height": 292
        },
        "id": "fEyJdQb0dSBu",
        "outputId": "14151aa5-c0ca-4d5c-a899-debf298550cf"
      },
      "source": [
        "plt.matshow(X_test[3])"
      ],
      "execution_count": 23,
      "outputs": [
        {
          "output_type": "execute_result",
          "data": {
            "text/plain": [
              "<matplotlib.image.AxesImage at 0x7fd2a5d11c10>"
            ]
          },
          "metadata": {},
          "execution_count": 23
        },
        {
          "output_type": "display_data",
          "data": {
            "image/png": "[encoded data removed]",
            "text/plain": [
              "<Figure size 288x288 with 1 Axes>"
            ]
          },
          "metadata": {
            "needs_background": "light"
          }
        }
      ]
    },
    {
      "cell_type": "code",
      "metadata": {
        "colab": {
          "base_uri": "https://localhost:8080/"
        },
        "id": "2iDZct31dZkB",
        "outputId": "035c5b78-75c9-4713-fb68-a72ee4ba1744"
      },
      "source": [
        "np.argmax(y_predict[3])"
      ],
      "execution_count": 24,
      "outputs": [
        {
          "output_type": "execute_result",
          "data": {
            "text/plain": [
              "0"
            ]
          },
          "metadata": {},
          "execution_count": 24
        }
      ]
    },
    {
      "cell_type": "code",
      "metadata": {
        "colab": {
          "base_uri": "https://localhost:8080/",
          "height": 292
        },
        "id": "wLhyyuD4eKgc",
        "outputId": "f443be63-e428-42ac-f737-40bbd1d7442a"
      },
      "source": [
        "plt.matshow(X_test[0])"
      ],
      "execution_count": 25,
      "outputs": [
        {
          "output_type": "execute_result",
          "data": {
            "text/plain": [
              "<matplotlib.image.AxesImage at 0x7fd2a3144150>"
            ]
          },
          "metadata": {},
          "execution_count": 25
        },
        {
          "output_type": "display_data",
          "data": {
            "image/png": "[encoded data removed]",
            "text/plain": [
              "<Figure size 288x288 with 1 Axes>"
            ]
          },
          "metadata": {
            "needs_background": "light"
          }
        }
      ]
    },
    {
      "cell_type": "code",
      "metadata": {
        "colab": {
          "base_uri": "https://localhost:8080/"
        },
        "id": "VxcHty15dh1h",
        "outputId": "8636dab3-b715-4266-c2cc-edb74554245d"
      },
      "source": [
        "np.argmax(y_predict[0])"
      ],
      "execution_count": 26,
      "outputs": [
        {
          "output_type": "execute_result",
          "data": {
            "text/plain": [
              "7"
            ]
          },
          "metadata": {},
          "execution_count": 26
        }
      ]
    },
    {
      "cell_type": "code",
      "metadata": {
        "colab": {
          "base_uri": "https://localhost:8080/"
        },
        "id": "OsNozEMteYYn",
        "outputId": "279c065e-480b-42fb-decd-d2272504023d"
      },
      "source": [
        "#checking the unique values .\n",
        "np.unique(y_test,axis=0)"
      ],
      "execution_count": 27,
      "outputs": [
        {
          "output_type": "execute_result",
          "data": {
            "text/plain": [
              "array([0, 1, 2, 3, 4, 5, 6, 7, 8, 9], dtype=uint8)"
            ]
          },
          "metadata": {},
          "execution_count": 27
        }
      ]
    },
    {
      "cell_type": "code",
      "metadata": {
        "colab": {
          "base_uri": "https://localhost:8080/"
        },
        "id": "wt2LRMR4e7Oy",
        "outputId": "2cd625ae-b899-4edd-8cf1-e4f72885fb1c"
      },
      "source": [
        "##coverting the y_pred values lables as y_test\n",
        "y_pred_label =[np.argmax(i) for i in y_predict]\n",
        "np.unique(y_pred_label,axis=0)"
      ],
      "execution_count": 28,
      "outputs": [
        {
          "output_type": "execute_result",
          "data": {
            "text/plain": [
              "array([0, 1, 2, 3, 4, 5, 6, 7, 8, 9])"
            ]
          },
          "metadata": {},
          "execution_count": 28
        }
      ]
    },
    {
      "cell_type": "code",
      "metadata": {
        "colab": {
          "base_uri": "https://localhost:8080/"
        },
        "id": "GGIokNKue-2_",
        "outputId": "0705f845-8c82-40fb-8604-d747f72f90f3"
      },
      "source": [
        "#confusion matrix\n",
        "cm =tf.math.confusion_matrix(y_test,y_pred_label)\n",
        "cm"
      ],
      "execution_count": 29,
      "outputs": [
        {
          "output_type": "execute_result",
          "data": {
            "text/plain": [
              "<tf.Tensor: shape=(10, 10), dtype=int32, numpy=\n",
              "array([[ 974,    1,    0,    1,    2,    0,    0,    1,    1,    0],\n",
              "       [   0, 1121,    3,    3,    0,    0,    2,    1,    5,    0],\n",
              "       [  13,   12,  995,    1,    1,    0,    1,    4,    4,    1],\n",
              "       [   0,   14,   65,  923,    0,    2,    0,    5,    1,    0],\n",
              "       [   1,   10,   10,    0,  944,    0,    5,    1,    3,    8],\n",
              "       [   7,    1,    2,  104,    3,  755,    5,    3,   10,    2],\n",
              "       [  84,    3,   13,    2,   60,   13,  780,    0,    3,    0],\n",
              "       [   6,    7,   48,    5,    8,    0,    0,  943,    2,    9],\n",
              "       [  27,    1,   33,   95,   13,   10,   15,    2,  775,    3],\n",
              "       [   3,    2,    0,   13,   41,    4,    1,    4,   19,  922]],\n",
              "      dtype=int32)>"
            ]
          },
          "metadata": {},
          "execution_count": 29
        }
      ]
    },
    {
      "cell_type": "code",
      "metadata": {
        "colab": {
          "base_uri": "https://localhost:8080/",
          "height": 531
        },
        "id": "E_Qcq-qMfFFx",
        "outputId": "5ec77540-6e79-4749-922c-07f789211c77"
      },
      "source": [
        "##heatplot confusion_matrix\n",
        "plt.figure(figsize=(10,8))\n",
        "sns.set_style('darkgrid')\n",
        "plt.title(\"Confusion_Matrix\")\n",
        "sns.heatmap(cm,cbar=True,square=True,annot=True,annot_kws={'size':10},cmap='Pastel2_r',fmt='.2f')\n",
        "plt.xlabel(\"Predicted_Data\")\n",
        "plt.ylabel(\"Actual_Data\")\n",
        "plt.plot()"
      ],
      "execution_count": 30,
      "outputs": [
        {
          "output_type": "execute_result",
          "data": {
            "text/plain": [
              "[]"
            ]
          },
          "metadata": {},
          "execution_count": 30
        },
        {
          "output_type": "display_data",
          "data": {
            "image/png": "[encoded data removed]",
            "text/plain": [
              "<Figure size 720x576 with 2 Axes>"
            ]
          },
          "metadata": {
            "needs_background": "light"
          }
        }
      ]
    },
    {
      "cell_type": "code",
      "metadata": {
        "id": "TU3oUeSCfqpF"
      },
      "source": [
        ""
      ],
      "execution_count": 30,
      "outputs": []
    }
  ]
}