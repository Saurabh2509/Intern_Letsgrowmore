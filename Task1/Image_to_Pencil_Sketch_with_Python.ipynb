{
  "nbformat": 4,
  "nbformat_minor": 0,
  "metadata": {
    "colab": {
      "name": "Image to Pencil Sketch with Python.ipynb",
      "private_outputs": true,
      "provenance": []
    },
    "kernelspec": {
      "name": "python3",
      "display_name": "Python 3"
    },
    "language_info": {
      "name": "python"
    }
  },
  "cells": [
    {
      "cell_type": "markdown",
      "metadata": {
        "id": "QsQRkUiddKpR"
      },
      "source": [
        "# **Image to Pencil Sketch with Python**"
      ]
    },
    {
      "cell_type": "code",
      "metadata": {
        "id": "-TBDmGhmZs3U"
      },
      "source": [
        "from IPython.display import  Image"
      ],
      "execution_count": null,
      "outputs": []
    },
    {
      "cell_type": "code",
      "metadata": {
        "id": "iP4SCa_GcI_q"
      },
      "source": [
        "Image('/content/fb_081419013923.jpg',height=420,width=600)"
      ],
      "execution_count": null,
      "outputs": []
    },
    {
      "cell_type": "code",
      "metadata": {
        "id": "enB00OL8cOJd"
      },
      "source": [
        "#importng cv2_library\n",
        "import cv2 "
      ],
      "execution_count": null,
      "outputs": []
    },
    {
      "cell_type": "code",
      "metadata": {
        "id": "vxRPb5hLdrW9"
      },
      "source": [
        "#reading the image using cv2\n",
        "image =cv2.imread('/content/fb_081419013923.jpg')"
      ],
      "execution_count": null,
      "outputs": []
    },
    {
      "cell_type": "code",
      "metadata": {
        "id": "d0KxNobmeJpi"
      },
      "source": [
        "#showimg the image\n",
        "cv2.imshow(\"Red_Fort\",image)\n",
        "cv2.waitKey(0)"
      ],
      "execution_count": null,
      "outputs": []
    },
    {
      "cell_type": "markdown",
      "metadata": {
        "id": "71CJ6YabixDJ"
      },
      "source": [
        "I am using google colab and facing this issue to get the code execute in colab \n",
        "\n",
        "--> Step 1 : from google.colab.patches import cv2_imshow\n",
        "\n",
        "--> Step 2 : use cv2_imshow (it will works similar to cv2.imshow)"
      ]
    },
    {
      "cell_type": "code",
      "metadata": {
        "id": "7Ze3MoUFeOEP"
      },
      "source": [
        "#importing cv2_imshow (only for colab user)\n",
        "from google.colab.patches import cv2_imshow"
      ],
      "execution_count": null,
      "outputs": []
    },
    {
      "cell_type": "markdown",
      "metadata": {
        "id": "-cCKnphPmM0M"
      },
      "source": [
        "# **Original_Image** :"
      ]
    },
    {
      "cell_type": "code",
      "metadata": {
        "id": "nUJwp36iijVC"
      },
      "source": [
        "#showing the image using cv2_imshow.\n",
        "cv2_imshow(image)"
      ],
      "execution_count": null,
      "outputs": []
    },
    {
      "cell_type": "code",
      "metadata": {
        "id": "vsxjTBucioZE"
      },
      "source": [
        "#coverting into gray_image\n",
        "gray_image = cv2.cvtColor(image, cv2.COLOR_BGR2GRAY)"
      ],
      "execution_count": null,
      "outputs": []
    },
    {
      "cell_type": "markdown",
      "metadata": {
        "id": "Ttg2-iApmeBQ"
      },
      "source": [
        "# **Gray_Image** :"
      ]
    },
    {
      "cell_type": "code",
      "metadata": {
        "id": "QzErdIfFjxTF"
      },
      "source": [
        "#Gray image\n",
        "cv2_imshow(gray_image)"
      ],
      "execution_count": null,
      "outputs": []
    },
    {
      "cell_type": "code",
      "metadata": {
        "id": "xf9-xNDLj1Y5"
      },
      "source": [
        "#converting into inverted_image \n",
        "inverted_image = 255-gray_image "
      ],
      "execution_count": null,
      "outputs": []
    },
    {
      "cell_type": "markdown",
      "metadata": {
        "id": "inh7_1EumkUU"
      },
      "source": [
        "# **Inverted_Image** :"
      ]
    },
    {
      "cell_type": "code",
      "metadata": {
        "id": "knjnUUTckF_E"
      },
      "source": [
        "#inveted image\n",
        "cv2_imshow(inverted_image)"
      ],
      "execution_count": null,
      "outputs": []
    },
    {
      "cell_type": "code",
      "metadata": {
        "id": "R3Tj1JHNkMaO"
      },
      "source": [
        "#converting into blureed image using GaussianBlur \n",
        "blurred_image =cv2.GaussianBlur(inverted_image,(21,21),0)"
      ],
      "execution_count": null,
      "outputs": []
    },
    {
      "cell_type": "markdown",
      "metadata": {
        "id": "jPafPWj_nLj2"
      },
      "source": [
        "# **Blurred_Image :**"
      ]
    },
    {
      "cell_type": "code",
      "metadata": {
        "id": "8ed2ZeZIkuqp"
      },
      "source": [
        "cv2_imshow(blurred_image)"
      ],
      "execution_count": null,
      "outputs": []
    },
    {
      "cell_type": "code",
      "metadata": {
        "id": "DswOcrwwk0uD"
      },
      "source": [
        "#finally converting to pencil_sketch \n",
        "inverted_blured =255-blurred_image\n",
        "pencil_sketch =cv2.divide(gray_image,inverted_image,scale=256.0)"
      ],
      "execution_count": null,
      "outputs": []
    },
    {
      "cell_type": "markdown",
      "metadata": {
        "id": "AbpsOTcUnb99"
      },
      "source": [
        "# **Pencil Sketch :**"
      ]
    },
    {
      "cell_type": "code",
      "metadata": {
        "id": "eHzpkWTylqy_"
      },
      "source": [
        "cv2_imshow(pencil_sketch)"
      ],
      "execution_count": null,
      "outputs": []
    },
    {
      "cell_type": "markdown",
      "metadata": {
        "id": "3lvthRZYnrFP"
      },
      "source": [
        "# **Comparision Between Original and Pencil Sketch :**"
      ]
    },
    {
      "cell_type": "code",
      "metadata": {
        "id": "zya32dwgluTV"
      },
      "source": [
        "#comparision betn Original and Pencil sktech\n",
        "cv2_imshow(image)\n",
        "cv2_imshow(pencil_sketch)"
      ],
      "execution_count": null,
      "outputs": []
    },
    {
      "cell_type": "code",
      "metadata": {
        "id": "ERkX5GGvl7t6"
      },
      "source": [
        ""
      ],
      "execution_count": null,
      "outputs": []
    }
  ]
}